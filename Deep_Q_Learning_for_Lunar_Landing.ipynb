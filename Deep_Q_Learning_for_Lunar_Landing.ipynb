{
  "cells": [
    {
      "cell_type": "markdown",
      "metadata": {
        "id": "view-in-github",
        "colab_type": "text"
      },
      "source": [
        "<a href=\"https://colab.research.google.com/github/maxhart5000/AI-Deep-Q-Learning-Lunar-Lander/blob/main/Deep_Q_Learning_for_Lunar_Landing.ipynb\" target=\"_parent\"><img src=\"https://colab.research.google.com/assets/colab-badge.svg\" alt=\"Open In Colab\"/></a>"
      ]
    },
    {
      "cell_type": "markdown",
      "metadata": {
        "id": "LbZcI9ZXHl3a"
      },
      "source": [
        "# Deep Q-Learning for Lunar Landing"
      ]
    },
    {
      "cell_type": "markdown",
      "metadata": {
        "id": "E8yPRjteXgPb"
      },
      "source": [
        "## Part 0 - Installing the required packages and importing the libraries"
      ]
    },
    {
      "cell_type": "markdown",
      "metadata": {
        "id": "slEm5teGWjWU"
      },
      "source": [
        "### Installing Gymnasium"
      ]
    },
    {
      "cell_type": "code",
      "execution_count": 1,
      "metadata": {
        "id": "dbnq3XpoKa_7",
        "colab": {
          "base_uri": "https://localhost:8080/"
        },
        "outputId": "ef10968b-61ba-4a51-9552-8ecd1bfae0f6",
        "collapsed": true
      },
      "outputs": [
        {
          "output_type": "stream",
          "name": "stdout",
          "text": [
            "Collecting gymnasium\n",
            "  Downloading gymnasium-0.29.1-py3-none-any.whl (953 kB)\n",
            "\u001b[?25l     \u001b[90m━━━━━━━━━━━━━━━━━━━━━━━━━━━━━━━━━━━━━━━━\u001b[0m \u001b[32m0.0/953.9 kB\u001b[0m \u001b[31m?\u001b[0m eta \u001b[36m-:--:--\u001b[0m\r\u001b[2K     \u001b[91m━━━━━━━━━━━━━━━━━━━━━━━━\u001b[0m\u001b[90m╺\u001b[0m\u001b[90m━━━━━━━━━━━━━━━\u001b[0m \u001b[32m573.4/953.9 kB\u001b[0m \u001b[31m17.0 MB/s\u001b[0m eta \u001b[36m0:00:01\u001b[0m\r\u001b[2K     \u001b[90m━━━━━━━━━━━━━━━━━━━━━━━━━━━━━━━━━━━━━━━━\u001b[0m \u001b[32m953.9/953.9 kB\u001b[0m \u001b[31m18.2 MB/s\u001b[0m eta \u001b[36m0:00:00\u001b[0m\n",
            "\u001b[?25hRequirement already satisfied: numpy>=1.21.0 in /usr/local/lib/python3.10/dist-packages (from gymnasium) (1.25.2)\n",
            "Requirement already satisfied: cloudpickle>=1.2.0 in /usr/local/lib/python3.10/dist-packages (from gymnasium) (2.2.1)\n",
            "Requirement already satisfied: typing-extensions>=4.3.0 in /usr/local/lib/python3.10/dist-packages (from gymnasium) (4.12.2)\n",
            "Collecting farama-notifications>=0.0.1 (from gymnasium)\n",
            "  Downloading Farama_Notifications-0.0.4-py3-none-any.whl (2.5 kB)\n",
            "Installing collected packages: farama-notifications, gymnasium\n",
            "Successfully installed farama-notifications-0.0.4 gymnasium-0.29.1\n",
            "Requirement already satisfied: gymnasium[accept-rom-license,atari] in /usr/local/lib/python3.10/dist-packages (0.29.1)\n",
            "Requirement already satisfied: numpy>=1.21.0 in /usr/local/lib/python3.10/dist-packages (from gymnasium[accept-rom-license,atari]) (1.25.2)\n",
            "Requirement already satisfied: cloudpickle>=1.2.0 in /usr/local/lib/python3.10/dist-packages (from gymnasium[accept-rom-license,atari]) (2.2.1)\n",
            "Requirement already satisfied: typing-extensions>=4.3.0 in /usr/local/lib/python3.10/dist-packages (from gymnasium[accept-rom-license,atari]) (4.12.2)\n",
            "Requirement already satisfied: farama-notifications>=0.0.1 in /usr/local/lib/python3.10/dist-packages (from gymnasium[accept-rom-license,atari]) (0.0.4)\n",
            "Collecting shimmy[atari]<1.0,>=0.1.0 (from gymnasium[accept-rom-license,atari])\n",
            "  Downloading Shimmy-0.2.1-py3-none-any.whl (25 kB)\n",
            "Collecting autorom[accept-rom-license]~=0.4.2 (from gymnasium[accept-rom-license,atari])\n",
            "  Downloading AutoROM-0.4.2-py3-none-any.whl (16 kB)\n",
            "Requirement already satisfied: click in /usr/local/lib/python3.10/dist-packages (from autorom[accept-rom-license]~=0.4.2->gymnasium[accept-rom-license,atari]) (8.1.7)\n",
            "Requirement already satisfied: requests in /usr/local/lib/python3.10/dist-packages (from autorom[accept-rom-license]~=0.4.2->gymnasium[accept-rom-license,atari]) (2.31.0)\n",
            "Requirement already satisfied: tqdm in /usr/local/lib/python3.10/dist-packages (from autorom[accept-rom-license]~=0.4.2->gymnasium[accept-rom-license,atari]) (4.66.4)\n",
            "Collecting AutoROM.accept-rom-license (from autorom[accept-rom-license]~=0.4.2->gymnasium[accept-rom-license,atari])\n",
            "  Downloading AutoROM.accept-rom-license-0.6.1.tar.gz (434 kB)\n",
            "\u001b[2K     \u001b[90m━━━━━━━━━━━━━━━━━━━━━━━━━━━━━━━━━━━━━━━━\u001b[0m \u001b[32m434.7/434.7 kB\u001b[0m \u001b[31m16.8 MB/s\u001b[0m eta \u001b[36m0:00:00\u001b[0m\n",
            "\u001b[?25h  Installing build dependencies ... \u001b[?25l\u001b[?25hdone\n",
            "  Getting requirements to build wheel ... \u001b[?25l\u001b[?25hdone\n",
            "  Preparing metadata (pyproject.toml) ... \u001b[?25l\u001b[?25hdone\n",
            "Collecting ale-py~=0.8.1 (from shimmy[atari]<1.0,>=0.1.0->gymnasium[accept-rom-license,atari])\n",
            "  Downloading ale_py-0.8.1-cp310-cp310-manylinux_2_17_x86_64.manylinux2014_x86_64.whl (1.7 MB)\n",
            "\u001b[2K     \u001b[90m━━━━━━━━━━━━━━━━━━━━━━━━━━━━━━━━━━━━━━━━\u001b[0m \u001b[32m1.7/1.7 MB\u001b[0m \u001b[31m77.9 MB/s\u001b[0m eta \u001b[36m0:00:00\u001b[0m\n",
            "\u001b[?25hRequirement already satisfied: importlib-resources in /usr/local/lib/python3.10/dist-packages (from ale-py~=0.8.1->shimmy[atari]<1.0,>=0.1.0->gymnasium[accept-rom-license,atari]) (6.4.0)\n",
            "Requirement already satisfied: charset-normalizer<4,>=2 in /usr/local/lib/python3.10/dist-packages (from requests->autorom[accept-rom-license]~=0.4.2->gymnasium[accept-rom-license,atari]) (3.3.2)\n",
            "Requirement already satisfied: idna<4,>=2.5 in /usr/local/lib/python3.10/dist-packages (from requests->autorom[accept-rom-license]~=0.4.2->gymnasium[accept-rom-license,atari]) (3.7)\n",
            "Requirement already satisfied: urllib3<3,>=1.21.1 in /usr/local/lib/python3.10/dist-packages (from requests->autorom[accept-rom-license]~=0.4.2->gymnasium[accept-rom-license,atari]) (2.0.7)\n",
            "Requirement already satisfied: certifi>=2017.4.17 in /usr/local/lib/python3.10/dist-packages (from requests->autorom[accept-rom-license]~=0.4.2->gymnasium[accept-rom-license,atari]) (2024.6.2)\n",
            "Building wheels for collected packages: AutoROM.accept-rom-license\n",
            "  Building wheel for AutoROM.accept-rom-license (pyproject.toml) ... \u001b[?25l\u001b[?25hdone\n",
            "  Created wheel for AutoROM.accept-rom-license: filename=AutoROM.accept_rom_license-0.6.1-py3-none-any.whl size=446659 sha256=52c2e2f51b7aba7ddfe8a20a30d8f35d7a1717d4260fce3d071284012323d17f\n",
            "  Stored in directory: /root/.cache/pip/wheels/6b/1b/ef/a43ff1a2f1736d5711faa1ba4c1f61be1131b8899e6a057811\n",
            "Successfully built AutoROM.accept-rom-license\n",
            "Installing collected packages: ale-py, shimmy, AutoROM.accept-rom-license, autorom\n",
            "Successfully installed AutoROM.accept-rom-license-0.6.1 ale-py-0.8.1 autorom-0.4.2 shimmy-0.2.1\n",
            "Reading package lists... Done\n",
            "Building dependency tree... Done\n",
            "Reading state information... Done\n",
            "The following additional packages will be installed:\n",
            "  swig4.0\n",
            "Suggested packages:\n",
            "  swig-doc swig-examples swig4.0-examples swig4.0-doc\n",
            "The following NEW packages will be installed:\n",
            "  swig swig4.0\n",
            "0 upgraded, 2 newly installed, 0 to remove and 45 not upgraded.\n",
            "Need to get 1,116 kB of archives.\n",
            "After this operation, 5,542 kB of additional disk space will be used.\n",
            "Get:1 http://archive.ubuntu.com/ubuntu jammy/universe amd64 swig4.0 amd64 4.0.2-1ubuntu1 [1,110 kB]\n",
            "Get:2 http://archive.ubuntu.com/ubuntu jammy/universe amd64 swig all 4.0.2-1ubuntu1 [5,632 B]\n",
            "Fetched 1,116 kB in 2s (461 kB/s)\n",
            "Selecting previously unselected package swig4.0.\n",
            "(Reading database ... 121913 files and directories currently installed.)\n",
            "Preparing to unpack .../swig4.0_4.0.2-1ubuntu1_amd64.deb ...\n",
            "Unpacking swig4.0 (4.0.2-1ubuntu1) ...\n",
            "Selecting previously unselected package swig.\n",
            "Preparing to unpack .../swig_4.0.2-1ubuntu1_all.deb ...\n",
            "Unpacking swig (4.0.2-1ubuntu1) ...\n",
            "Setting up swig4.0 (4.0.2-1ubuntu1) ...\n",
            "Setting up swig (4.0.2-1ubuntu1) ...\n",
            "Processing triggers for man-db (2.10.2-1) ...\n",
            "Requirement already satisfied: gymnasium[box2d] in /usr/local/lib/python3.10/dist-packages (0.29.1)\n",
            "Requirement already satisfied: numpy>=1.21.0 in /usr/local/lib/python3.10/dist-packages (from gymnasium[box2d]) (1.25.2)\n",
            "Requirement already satisfied: cloudpickle>=1.2.0 in /usr/local/lib/python3.10/dist-packages (from gymnasium[box2d]) (2.2.1)\n",
            "Requirement already satisfied: typing-extensions>=4.3.0 in /usr/local/lib/python3.10/dist-packages (from gymnasium[box2d]) (4.12.2)\n",
            "Requirement already satisfied: farama-notifications>=0.0.1 in /usr/local/lib/python3.10/dist-packages (from gymnasium[box2d]) (0.0.4)\n",
            "Collecting box2d-py==2.3.5 (from gymnasium[box2d])\n",
            "  Downloading box2d-py-2.3.5.tar.gz (374 kB)\n",
            "\u001b[2K     \u001b[90m━━━━━━━━━━━━━━━━━━━━━━━━━━━━━━━━━━━━━━━━\u001b[0m \u001b[32m374.4/374.4 kB\u001b[0m \u001b[31m8.8 MB/s\u001b[0m eta \u001b[36m0:00:00\u001b[0m\n",
            "\u001b[?25h  Preparing metadata (setup.py) ... \u001b[?25l\u001b[?25hdone\n",
            "Requirement already satisfied: pygame>=2.1.3 in /usr/local/lib/python3.10/dist-packages (from gymnasium[box2d]) (2.5.2)\n",
            "Collecting swig==4.* (from gymnasium[box2d])\n",
            "  Downloading swig-4.2.1-py2.py3-none-manylinux_2_5_x86_64.manylinux1_x86_64.whl (1.9 MB)\n",
            "\u001b[2K     \u001b[90m━━━━━━━━━━━━━━━━━━━━━━━━━━━━━━━━━━━━━━━━\u001b[0m \u001b[32m1.9/1.9 MB\u001b[0m \u001b[31m59.5 MB/s\u001b[0m eta \u001b[36m0:00:00\u001b[0m\n",
            "\u001b[?25hBuilding wheels for collected packages: box2d-py\n",
            "  Building wheel for box2d-py (setup.py) ... \u001b[?25l\u001b[?25hdone\n",
            "  Created wheel for box2d-py: filename=box2d_py-2.3.5-cp310-cp310-linux_x86_64.whl size=2349113 sha256=a8cf7a578dd8dd3d3b0b2f49dcf1b32f53506376052ff1be8f2437f155ac20fb\n",
            "  Stored in directory: /root/.cache/pip/wheels/db/8f/6a/eaaadf056fba10a98d986f6dce954e6201ba3126926fc5ad9e\n",
            "Successfully built box2d-py\n",
            "Installing collected packages: swig, box2d-py\n",
            "Successfully installed box2d-py-2.3.5 swig-4.2.1\n"
          ]
        }
      ],
      "source": [
        "!pip install gymnasium\n",
        "!pip install \"gymnasium[atari, accept-rom-license]\"\n",
        "!apt-get install -y swig\n",
        "!pip install gymnasium[box2d]"
      ]
    },
    {
      "cell_type": "markdown",
      "metadata": {
        "id": "brqiMN3UW9T9"
      },
      "source": [
        "### Importing the libraries"
      ]
    },
    {
      "cell_type": "code",
      "execution_count": 2,
      "metadata": {
        "id": "mZaKXP_aMl9O"
      },
      "outputs": [],
      "source": [
        "import os\n",
        "import random\n",
        "import numpy as np\n",
        "import torch\n",
        "import torch.nn as nn\n",
        "import torch.optim as optim\n",
        "import torch.nn.functional as F\n",
        "import torch.autograd as autograd\n",
        "from torch.autograd import Variable\n",
        "from collections import deque, namedtuple"
      ]
    },
    {
      "cell_type": "markdown",
      "metadata": {
        "id": "EzlDKXvkXzGI"
      },
      "source": [
        "## Part 1 - Building the AI"
      ]
    },
    {
      "cell_type": "markdown",
      "metadata": {
        "id": "UtG6Zc83YYy3"
      },
      "source": [
        "### Creating the architecture of the Neural Network"
      ]
    },
    {
      "cell_type": "code",
      "source": [
        "class Network(nn.Module):\n",
        "\n",
        "  def __init__(self, state_size, action_size, seed = 42):\n",
        "    super(Network, self).__init__()\n",
        "    self.seed = torch.manual_seed(seed)\n",
        "    self.fc1 = nn.Linear(state_size, 64)\n",
        "    self.fc2 = nn.Linear(64, 64)\n",
        "    self.fc3 = nn.Linear(64, action_size)\n",
        "\n",
        "  def forward(self, state):\n",
        "    x = self.fc1(state)\n",
        "    x = F.relu(x)\n",
        "    x = self.fc2(x)\n",
        "    x = F.relu(x)\n",
        "    return self.fc3(x)"
      ],
      "metadata": {
        "id": "ddcWvMcKLVFU"
      },
      "execution_count": 3,
      "outputs": []
    },
    {
      "cell_type": "markdown",
      "metadata": {
        "id": "UxVrBnFWZKb1"
      },
      "source": [
        "## Part 2 - Training the AI"
      ]
    },
    {
      "cell_type": "markdown",
      "metadata": {
        "id": "T364fz9qZb2j"
      },
      "source": [
        "### Setting up the environment"
      ]
    },
    {
      "cell_type": "code",
      "source": [
        "import gymnasium as gym\n",
        "\n",
        "env = gym.make('LunarLander-v2')\n",
        "state_shape = env.observation_space.shape\n",
        "state_size = state_shape[0]\n",
        "number_actions = env.action_space.n\n",
        "\n",
        "print('State Shape: ', state_shape)\n",
        "print('State Size: ', state_size)\n",
        "print('Number of Actions: ', number_actions)"
      ],
      "metadata": {
        "colab": {
          "base_uri": "https://localhost:8080/"
        },
        "id": "opNRXbRX1yZd",
        "outputId": "04d2b94b-4d69-4e9a-e34d-230094a6ef5c"
      },
      "execution_count": 4,
      "outputs": [
        {
          "output_type": "stream",
          "name": "stdout",
          "text": [
            "State Shape:  (8,)\n",
            "State Size:  8\n",
            "Number of Actions:  4\n"
          ]
        }
      ]
    },
    {
      "cell_type": "markdown",
      "metadata": {
        "id": "c_dZmOIvZgj-"
      },
      "source": [
        "### Initializing the hyperparameters"
      ]
    },
    {
      "cell_type": "code",
      "source": [
        "# Learning Rate: Determines the step size for the optimizer when updating the network's weights.\n",
        "# A smaller learning rate can lead to more stable but slower convergence.\n",
        "learning_rate = 5e-4\n",
        "\n",
        "# Minibatch Size: The number of samples drawn from the replay buffer for each training step.\n",
        "# Larger minibatches provide more stable gradient estimates but require more memory.\n",
        "minibatch_size = 100\n",
        "\n",
        "# Discount Factor (γ): Balances the importance of immediate and future rewards.\n",
        "# A value close to 1 (e.g., 0.99) emphasizes long-term rewards.\n",
        "discount_factor = 0.99\n",
        "\n",
        "# Replay Buffer Size: Maximum number of experiences stored in the buffer.\n",
        "# Using a large buffer helps in breaking the correlation between sequential experiences.\n",
        "replay_buffer_size = int(1e5)\n",
        "\n",
        "# Interpolation Parameter (τ): Used for soft updating the target network in DQN.\n",
        "# It helps in stabilizing the training by slowly updating the target network's weights.\n",
        "interpolation_parameter = 1e-3"
      ],
      "metadata": {
        "colab": {
          "base_uri": "https://localhost:8080/"
        },
        "id": "3bwKzUFv8nkK",
        "outputId": "804f5c65-31ae-428f-c232-c57f55ac5cda"
      },
      "execution_count": 5,
      "outputs": [
        {
          "output_type": "stream",
          "name": "stderr",
          "text": [
            "/usr/local/lib/python3.10/dist-packages/ipykernel/ipkernel.py:283: DeprecationWarning: `should_run_async` will not call `transform_cell` automatically in the future. Please pass the result to `transformed_cell` argument and any exception that happen during thetransform in `preprocessing_exc_tuple` in IPython 7.17 and above.\n",
            "  and should_run_async(code)\n"
          ]
        }
      ]
    },
    {
      "cell_type": "markdown",
      "metadata": {
        "id": "8hD_Vs-bYnip"
      },
      "source": [
        "### Implementing Experience Replay"
      ]
    },
    {
      "cell_type": "code",
      "source": [
        "class ReplayMemory(object):\n",
        "\n",
        "  def __init__(self, capacity):\n",
        "    self.device = torch.device('cuda:0' if torch.cuda.is_available() else 'cpu')\n",
        "    self.capacity = capacity\n",
        "    self.memory = []\n",
        "\n",
        "  def push(self, event):\n",
        "    self.memory.append(event)\n",
        "    if len(self.memory) > self.capacity:\n",
        "      del self.memory[0]\n",
        "\n",
        "  def sample(self, batch_size):\n",
        "    experiences = random.sample(self.memory, k = batch_size)\n",
        "    states = torch.from_numpy(np.vstack([e[0] for e in experiences if e is not None])).float().to(self.device)\n",
        "    actions = torch.from_numpy(np.vstack([e[1] for e in experiences if e is not None])).long().to(self.device)\n",
        "    rewards = torch.from_numpy(np.vstack([e[2] for e in experiences if e is not None])).float().to(self.device)\n",
        "    next_states = torch.from_numpy(np.vstack([e[3] for e in experiences if e is not None])).float().to(self.device)\n",
        "    dones = torch.from_numpy(np.vstack([e[4] for e in experiences if e is not None]).astype(np.uint8)).float().to(self.device)\n",
        "    return states, next_states, actions, rewards, dones"
      ],
      "metadata": {
        "id": "pnxVuH9o-4uM"
      },
      "execution_count": 6,
      "outputs": []
    },
    {
      "cell_type": "markdown",
      "metadata": {
        "id": "JmEkbFbUY6Jt"
      },
      "source": [
        "### Implementing the DQN class"
      ]
    },
    {
      "cell_type": "code",
      "source": [
        "class Agent():\n",
        "\n",
        "  def __init__(self, state_size, action_size):\n",
        "    self.device = torch.device('cuda:0' if torch.cuda.is_available() else 'cpu')\n",
        "    self.state_size = state_size\n",
        "    self.action_size = action_size\n",
        "    self.local_qnetwork = Network(state_size, action_size).to(self.device)\n",
        "    self.target_qnetwork = Network(state_size, action_size).to(self.device)\n",
        "    self.optimizer = optim.Adam(self.local_qnetwork.parameters(), lr = learning_rate)\n",
        "    self.memory = ReplayMemory(replay_buffer_size)\n",
        "    self.t_step = 0\n",
        "\n",
        "  def step(self, state, action, reward, next_state, done):\n",
        "    self.memory.push((state, action, reward, next_state, done))\n",
        "    self.t_step = (self.t_step + 1) % 4\n",
        "    if self.t_step == 0:\n",
        "      if len(self.memory.memory) > minibatch_size:\n",
        "        experiences = self.memory.sample(100)\n",
        "        self.learn(experiences, discount_factor)\n",
        "\n",
        "  def act(self, state, epsilon = 0.):\n",
        "    state = torch.from_numpy(state).float().unsqueeze(0).to(self.device)\n",
        "    self.local_qnetwork.eval()\n",
        "    with torch.no_grad():\n",
        "      action_values = self.local_qnetwork(state)\n",
        "    self.local_qnetwork.train()\n",
        "    if random.random() > epsilon:\n",
        "      return np.argmax(action_values.cpu().data.numpy())\n",
        "    else:\n",
        "      return random.choice(np.arange(self.action_size))\n",
        "\n",
        "  def learn(self, experiences, discount_factor):\n",
        "    states, next_states, actions, rewards, dones = experiences\n",
        "    next_q_targets = self.target_qnetwork(next_states).detach().max(1)[0].unsqueeze(1)\n",
        "    q_targets = rewards + (discount_factor * next_q_targets * (1-dones))\n",
        "    q_expected = self.local_qnetwork(states).gather(1, actions)\n",
        "    loss = F.mse_loss(q_expected, q_targets)\n",
        "    self.optimizer.zero_grad()\n",
        "    loss.backward()\n",
        "    self.optimizer.step()\n",
        "    self.soft_update(self.local_qnetwork, self.target_qnetwork, interpolation_parameter)\n",
        "\n",
        "  def soft_update(self, local_model, target_model, interpolation_parameter):\n",
        "    for target_param, local_param in zip(target_model.parameters(), local_model.parameters()):\n",
        "      target_param.data.copy_(interpolation_parameter * local_param.data + (1.0 - interpolation_parameter) * target_param.data)"
      ],
      "metadata": {
        "id": "w2202SeighrQ"
      },
      "execution_count": 7,
      "outputs": []
    },
    {
      "cell_type": "markdown",
      "metadata": {
        "id": "o1tZElccZmf6"
      },
      "source": [
        "### Initializing the DQN agent"
      ]
    },
    {
      "cell_type": "code",
      "source": [
        "agent = Agent(state_size, number_actions)"
      ],
      "metadata": {
        "id": "gPnCZQmBzF5n"
      },
      "execution_count": 8,
      "outputs": []
    },
    {
      "cell_type": "markdown",
      "metadata": {
        "id": "E8v0PtUfaVQp"
      },
      "source": [
        "### Training the DQN agent"
      ]
    },
    {
      "cell_type": "code",
      "source": [
        "number_episodes = 2000\n",
        "maximum_number_timesteps_per_episode = 1000\n",
        "epsilon_starting_value =  1.0\n",
        "epsilon_ending_value = 0.01\n",
        "epsilon_decay_value = 0.995\n",
        "epsilon = epsilon_starting_value\n",
        "scores_on_100_episodes = deque(maxlen = 100)\n",
        "\n",
        "for episode in range(1, number_episodes + 1):\n",
        "  state, _ = env.reset()\n",
        "  score = 0\n",
        "  for t in range(maximum_number_timesteps_per_episode):\n",
        "    action = agent.act(state, epsilon)\n",
        "    next_state, reward, done, _,  _ = env.step(action)\n",
        "    agent.step(state, action, reward, next_state, done)\n",
        "    state = next_state\n",
        "    score += reward\n",
        "    if done:\n",
        "      break\n",
        "  scores_on_100_episodes.append(score)\n",
        "  epsilon = max(epsilon_ending_value, epsilon_decay_value * epsilon)\n",
        "  print('\\rEpisode {}\\tAverage Score: {:.2f}'.format(episode, np.mean(scores_on_100_episodes)), end = '')\n",
        "  if episode % 100 == 0:\n",
        "     print('\\rEpisode {}\\tAverage Score: {:.2f}'.format(episode, np.mean(scores_on_100_episodes)))\n",
        "  if np.mean(scores_on_100_episodes) >= 250.0:\n",
        "     print('\\nEnvironment solved in {:d} episodes!\\tAverage Score: {:.2f}'.format(episode - 100, np.mean(scores_on_100_episodes)))\n",
        "     torch.save(agent.local_qnetwork.state_dict(), 'checkpoint.pth')\n",
        "     break"
      ],
      "metadata": {
        "colab": {
          "base_uri": "https://localhost:8080/"
        },
        "id": "MYVGl7ZVISr3",
        "outputId": "c09808de-e3eb-41d6-e897-402014e8d2a9"
      },
      "execution_count": 9,
      "outputs": [
        {
          "output_type": "stream",
          "name": "stderr",
          "text": [
            "/usr/local/lib/python3.10/dist-packages/ipykernel/ipkernel.py:283: DeprecationWarning: `should_run_async` will not call `transform_cell` automatically in the future. Please pass the result to `transformed_cell` argument and any exception that happen during thetransform in `preprocessing_exc_tuple` in IPython 7.17 and above.\n",
            "  and should_run_async(code)\n"
          ]
        },
        {
          "output_type": "stream",
          "name": "stdout",
          "text": [
            "Episode 100\tAverage Score: -154.72\n",
            "Episode 200\tAverage Score: -110.25\n",
            "Episode 300\tAverage Score: -29.79\n",
            "Episode 400\tAverage Score: 7.23\n",
            "Episode 500\tAverage Score: 129.18\n",
            "Episode 600\tAverage Score: 116.64\n",
            "Episode 700\tAverage Score: 141.50\n",
            "Episode 800\tAverage Score: 189.30\n",
            "Episode 900\tAverage Score: 221.66\n",
            "Episode 1000\tAverage Score: 238.48\n",
            "Episode 1100\tAverage Score: 241.84\n",
            "Episode 1200\tAverage Score: 233.82\n",
            "Episode 1300\tAverage Score: 224.49\n",
            "Episode 1400\tAverage Score: 239.68\n",
            "Episode 1500\tAverage Score: 223.36\n",
            "Episode 1600\tAverage Score: 193.40\n",
            "Episode 1700\tAverage Score: 195.14\n",
            "Episode 1800\tAverage Score: 242.95\n",
            "Episode 1811\tAverage Score: 250.14\n",
            "Environment solved in 1711 episodes!\tAverage Score: 250.14\n"
          ]
        }
      ]
    },
    {
      "cell_type": "markdown",
      "metadata": {
        "id": "O8CNwdOTcCoP"
      },
      "source": [
        "## Part 3 - Visualizing the results"
      ]
    },
    {
      "cell_type": "code",
      "execution_count": 14,
      "metadata": {
        "id": "cb9nVvU2Okhk",
        "colab": {
          "base_uri": "https://localhost:8080/",
          "height": 459
        },
        "outputId": "a1f81f2b-9443-4a1e-e714-dfeee35bf883"
      },
      "outputs": [
        {
          "output_type": "stream",
          "name": "stderr",
          "text": [
            "WARNING:imageio_ffmpeg:IMAGEIO FFMPEG_WRITER WARNING: input image is not divisible by macro_block_size=16, resizing from (600, 400) to (608, 400) to ensure video compatibility with most codecs and players. To prevent resizing, make your input image divisible by the macro_block_size or set the macro_block_size to 1 (risking incompatibility).\n"
          ]
        },
        {
          "output_type": "display_data",
          "data": {
            "text/plain": [
              "<IPython.core.display.HTML object>"
            ],
            "text/html": [
              "<video alt=\"test\" autoplay\n",
              "                loop controls style=\"height: 400px;\">\n",
              "                <source src=\"data:video/mp4;base64,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\" type=\"video/mp4\" />\n",
              "             </video>"
            ]
          },
          "metadata": {}
        }
      ],
      "source": [
        "import glob\n",
        "import io\n",
        "import base64\n",
        "import imageio\n",
        "from IPython.display import HTML, display\n",
        "from gym.wrappers.monitoring.video_recorder import VideoRecorder\n",
        "\n",
        "def show_video_of_model(agent, env_name):\n",
        "    env = gym.make(env_name, render_mode='rgb_array')\n",
        "    state, _ = env.reset()\n",
        "    done = False\n",
        "    frames = []\n",
        "    while not done:\n",
        "        frame = env.render()\n",
        "        frames.append(frame)\n",
        "        action = agent.act(state)\n",
        "        state, reward, done, _, _ = env.step(action.item())\n",
        "    env.close()\n",
        "    imageio.mimsave('video.mp4', frames, fps=30)\n",
        "\n",
        "show_video_of_model(agent, 'LunarLander-v2')\n",
        "\n",
        "def show_video():\n",
        "    mp4list = glob.glob('*.mp4')\n",
        "    if len(mp4list) > 0:\n",
        "        mp4 = mp4list[0]\n",
        "        video = io.open(mp4, 'r+b').read()\n",
        "        encoded = base64.b64encode(video)\n",
        "        display(HTML(data='''<video alt=\"test\" autoplay\n",
        "                loop controls style=\"height: 400px;\">\n",
        "                <source src=\"data:video/mp4;base64,{0}\" type=\"video/mp4\" />\n",
        "             </video>'''.format(encoded.decode('ascii'))))\n",
        "    else:\n",
        "        print(\"Could not find video\")\n",
        "\n",
        "show_video()"
      ]
    }
  ],
  "metadata": {
    "colab": {
      "provenance": [],
      "gpuType": "A100",
      "machine_shape": "hm",
      "include_colab_link": true
    },
    "kernelspec": {
      "display_name": "Python 3",
      "name": "python3"
    },
    "language_info": {
      "name": "python"
    },
    "accelerator": "GPU"
  },
  "nbformat": 4,
  "nbformat_minor": 0
}